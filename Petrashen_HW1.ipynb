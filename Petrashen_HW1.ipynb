{
 "cells": [
  {
   "cell_type": "markdown",
   "metadata": {},
   "source": [
    "### Theoretical Methods of Deep Learning: Homework assignment 1\n",
    "Submit solution by uploading to canvas, **by Friday, November 6th, 23:00**\n",
    "\n",
    "**The task.** Design a ReLU network with fewer than 10000 connections that approximates the function $f(x)=\\sin x$ on the segment $[-\\pi, \\pi]$ with uniform error not greater than $10^{-12}$. Implement the network in a Python notebook. Count the number of connections and demonstrate that the error bound is satisfied."
   ]
  },
  {
   "cell_type": "code",
   "execution_count": 3,
   "metadata": {},
   "outputs": [],
   "source": [
    "import torch\n",
    "from torch import nn\n",
    "import numpy as np\n",
    "from tqdm import tqdm\n",
    "from matplotlib import pyplot as plt"
   ]
  },
  {
   "cell_type": "code",
   "execution_count": 4,
   "metadata": {},
   "outputs": [],
   "source": [
    "PI = np.pi\n",
    "\n",
    "class SinNetwork(nn.Module):\n",
    "    def __init__(self, n_hidden, width):\n",
    "        super().__init__()\n",
    "        self.n_hidden = n_hidden\n",
    "        self.width = width\n",
    "        self.input_layer = nn.Linear(1, self.width)\n",
    "        self.relu = nn.ReLU()\n",
    "        \n",
    "        hidden_layers = []\n",
    "        for i in range(self.n_hidden - 1):\n",
    "            hidden_layers.append(nn.Linear(self.width, self.width).to(device))\n",
    "            hidden_layers.append(nn.ReLU())\n",
    "        self.hidden_layers = nn.Sequential(*hidden_layers)\n",
    "        self.output_layer = nn.Linear(self.width, 1)\n",
    "    \n",
    "    def forward(self, x):\n",
    "        x = self.input_layer(x)\n",
    "        x = self.relu(x)\n",
    "        x = self.hidden_layers(x)\n",
    "        \n",
    "        return self.output_layer(x)\n",
    "    \n",
    "    def num_parameters(self):\n",
    "        return 2 * self.width + (self.n_hidden - 1) * self.width * self.width\n",
    "    \n",
    "class SinDataset(torch.utils.data.Dataset):\n",
    "    def __init__(self, n_points):\n",
    "        super().__init__()\n",
    "        self.n_points = n_points\n",
    "        dx = 2*PI / n_points\n",
    "        self.X = torch.arange(start=-PI, end=PI, step=dx)\n",
    "        self.Y = torch.sin(self.X)\n",
    "        \n",
    "    def __len__(self):\n",
    "        return self.n_points\n",
    "    \n",
    "    def __getitem__(self, idx):\n",
    "        return self.X[idx].unsqueeze(0), self.Y[idx].unsqueeze(0)\n",
    "\n",
    "\n",
    "def overfit(model, optimizer, criterion, loader, n_epochs=1000):\n",
    "    print('Overfitting in progress..')\n",
    "    for i in tqdm(range(n_epochs)):\n",
    "        l = 0\n",
    "        for X, y in loader:\n",
    "            X, y = X.to(device), y.to(device)\n",
    "            pred = model(X)\n",
    "            loss = criterion(pred, y)\n",
    "            optimizer.zero_grad()\n",
    "            loss.backward()\n",
    "            optimizer.step()\n",
    "            \n",
    "            l += loss.item()\n",
    "    \n",
    "    dx = 2*PI / N_POINTS\n",
    "    x_range = torch.arange(start=-PI, end=PI, step=dx).to(device)\n",
    "    y_range = torch.sin(x_range).to(device)\n",
    "    y_pred = model(x_range.unsqueeze(1))\n",
    "    \n",
    "    print(f'Overfitting has finished, maximum error = {torch.max(torch.abs(y_pred.squeeze()-y_range))}')\n",
    "            "
   ]
  },
  {
   "cell_type": "code",
   "execution_count": 5,
   "metadata": {},
   "outputs": [
    {
     "name": "stderr",
     "output_type": "stream",
     "text": [
      "\r",
      "  0%|          | 0/10000 [00:00<?, ?it/s]"
     ]
    },
    {
     "name": "stdout",
     "output_type": "stream",
     "text": [
      "The number of connections is 10000\n",
      "Overfitting in progress..\n"
     ]
    },
    {
     "name": "stderr",
     "output_type": "stream",
     "text": [
      "100%|██████████| 10000/10000 [37:36<00:00,  4.43it/s]"
     ]
    },
    {
     "name": "stdout",
     "output_type": "stream",
     "text": [
      "Overfitting has finished, maximum error = 0.0010819584131240845\n"
     ]
    },
    {
     "name": "stderr",
     "output_type": "stream",
     "text": [
      "\n"
     ]
    }
   ],
   "source": [
    "N_POINTS = 10000\n",
    "device = 'cuda' if torch.cuda.is_available() else 'cpu'\n",
    "\n",
    "n_hidden = 1\n",
    "width = 5000\n",
    "\n",
    "model = SinNetwork(n_hidden, width).to(device)\n",
    "print(f'The number of connections is {model.num_parameters()}')\n",
    "\n",
    "data = SinDataset(N_POINTS)\n",
    "loader = torch.utils.data.DataLoader(data, batch_size=100, shuffle=True)\n",
    "\n",
    "optimizer = torch.optim.Adam(model.parameters(), lr=1e-4)\n",
    "criterion = nn.MSELoss()\n",
    "\n",
    "overfit(model, optimizer, criterion, loader, n_epochs=10000)"
   ]
  },
  {
   "cell_type": "code",
   "execution_count": 6,
   "metadata": {},
   "outputs": [
    {
     "name": "stdout",
     "output_type": "stream",
     "text": [
      "Maximum error = 0.0010819584131240845\n"
     ]
    }
   ],
   "source": [
    "n_points = 10000\n",
    "\n",
    "dx = 2*PI / n_points\n",
    "x_range = torch.arange(start=-PI, end=PI, step=dx).to(device)\n",
    "y_range = torch.sin(x_range).to(device)\n",
    "\n",
    "y_pred = model(x_range.unsqueeze(1))\n",
    "print(f'Maximum error = {torch.max(torch.abs(y_pred.squeeze()-y_range))}')"
   ]
  },
  {
   "cell_type": "code",
   "execution_count": 7,
   "metadata": {},
   "outputs": [
    {
     "data": {
      "text/plain": [
       "<matplotlib.legend.Legend at 0x7f6f2ff73850>"
      ]
     },
     "execution_count": 7,
     "metadata": {},
     "output_type": "execute_result"
    },
    {
     "data": {
      "image/png": "[encoded data removed]",
      "text/plain": [
       "<Figure size 432x288 with 1 Axes>"
      ]
     },
     "metadata": {
      "needs_background": "light"
     },
     "output_type": "display_data"
    }
   ],
   "source": [
    "plt.plot(x_range.cpu(), y_pred.detach().cpu(), label='pred')\n",
    "plt.plot(x_range.cpu(), y_range.detach().cpu(), label='true')\n",
    "plt.legend()"
   ]
  },
  {
   "cell_type": "markdown",
   "metadata": {},
   "source": [
    "### Doesn't work, let's try different loss which focuses on the points with maximal error\n",
    "* Namely: $L(y_{true}, y_{pred}) = e^{|y_{true} - y_{pred}|}$"
   ]
  },
  {
   "cell_type": "code",
   "execution_count": 8,
   "metadata": {},
   "outputs": [],
   "source": [
    "def overfit_exp(model, optimizer, criterion, loader, n_epochs=1000):\n",
    "    print('Overfitting in progress..')\n",
    "    for i in tqdm(range(n_epochs)):\n",
    "        l = 0\n",
    "        for X, y in loader:\n",
    "            X, y = X.to(device), y.to(device)\n",
    "            pred = model(X)\n",
    "            loss = criterion(pred, y)\n",
    "            loss = torch.exp(loss)\n",
    "            optimizer.zero_grad()\n",
    "            loss.backward()\n",
    "            optimizer.step()\n",
    "            \n",
    "            l += loss.item()\n",
    "    \n",
    "    dx = 2*PI / N_POINTS\n",
    "    x_range = torch.arange(start=-PI, end=PI, step=dx).to(device)\n",
    "    y_range = torch.sin(x_range).to(device)\n",
    "    y_pred = model(x_range.unsqueeze(1))\n",
    "    \n",
    "    print(f'Overfitting has finished, maximum error = {torch.max(torch.abs(y_pred.squeeze()-y_range))}')"
   ]
  },
  {
   "cell_type": "code",
   "execution_count": 9,
   "metadata": {},
   "outputs": [
    {
     "name": "stderr",
     "output_type": "stream",
     "text": [
      "\r",
      "  0%|          | 0/10000 [00:00<?, ?it/s]"
     ]
    },
    {
     "name": "stdout",
     "output_type": "stream",
     "text": [
      "The number of connections is 10000\n",
      "Overfitting in progress..\n"
     ]
    },
    {
     "name": "stderr",
     "output_type": "stream",
     "text": [
      "100%|██████████| 10000/10000 [38:03<00:00,  4.38it/s]"
     ]
    },
    {
     "name": "stdout",
     "output_type": "stream",
     "text": [
      "Overfitting has finished, maximum error = 0.015954475849866867\n"
     ]
    },
    {
     "name": "stderr",
     "output_type": "stream",
     "text": [
      "\n"
     ]
    }
   ],
   "source": [
    "N_POINTS = 10000\n",
    "device = 'cuda' if torch.cuda.is_available() else 'cpu'\n",
    "\n",
    "n_hidden = 1\n",
    "width = 5000\n",
    "\n",
    "model = SinNetwork(n_hidden, width).to(device)\n",
    "print(f'The number of connections is {model.num_parameters()}')\n",
    "\n",
    "data = SinDataset(N_POINTS)\n",
    "loader = torch.utils.data.DataLoader(data, batch_size=100, shuffle=True)\n",
    "\n",
    "optimizer = torch.optim.Adam(model.parameters(), lr=1e-4)\n",
    "criterion = nn.L1Loss()\n",
    "\n",
    "overfit_exp(model, optimizer, criterion, loader, n_epochs=10000)"
   ]
  },
  {
   "cell_type": "code",
   "execution_count": 10,
   "metadata": {},
   "outputs": [
    {
     "name": "stdout",
     "output_type": "stream",
     "text": [
      "Maximum error = 0.015954475849866867\n"
     ]
    }
   ],
   "source": [
    "n_points = 10000\n",
    "\n",
    "dx = 2*PI / n_points\n",
    "x_range = torch.arange(start=-PI, end=PI, step=dx).to(device)\n",
    "y_range = torch.sin(x_range).to(device)\n",
    "\n",
    "y_pred = model(x_range.unsqueeze(1))\n",
    "print(f'Maximum error = {torch.max(torch.abs(y_pred.squeeze()-y_range))}')"
   ]
  },
  {
   "cell_type": "code",
   "execution_count": 11,
   "metadata": {},
   "outputs": [
    {
     "data": {
      "text/plain": [
       "<matplotlib.legend.Legend at 0x7f6f2c92cd50>"
      ]
     },
     "execution_count": 11,
     "metadata": {},
     "output_type": "execute_result"
    },
    {
     "data": {
      "image/png": "[encoded data removed]",
      "text/plain": [
       "<Figure size 432x288 with 1 Axes>"
      ]
     },
     "metadata": {
      "needs_background": "light"
     },
     "output_type": "display_data"
    }
   ],
   "source": [
    "plt.plot(x_range.cpu(), y_pred.detach().cpu(), label='pred')\n",
    "plt.plot(x_range.cpu(), y_range.detach().cpu(), label='true')\n",
    "plt.legend()"
   ]
  },
  {
   "cell_type": "markdown",
   "metadata": {},
   "source": [
    "### Doesn't work either"
   ]
  },
  {
   "cell_type": "markdown",
   "metadata": {},
   "source": [
    "#### Let's try different approach: approximate $sin$ with it's Taylor series expanded at zero up to some high term\n",
    " $$sin(x) = x - \\frac{x^3}{6}+\\sum \\frac{(-1)^k x^(2k+1)}{(2k+1)!} + \\ ...$$\n",
    " * Each term will be computed using the sawtooth squaring approximation and multiplications in the form: $xy = \\frac{1}{2}((x+y)^2 - x^2 - y^2)$"
   ]
  },
  {
   "cell_type": "markdown",
   "metadata": {},
   "source": [
    "#### Let's define some basic blocks for this"
   ]
  },
  {
   "cell_type": "code",
   "execution_count": 45,
   "metadata": {},
   "outputs": [],
   "source": [
    "PI = np.pi\n",
    "powers_dict = {1: [1],     # 2\n",
    "              2: [1, 1],   # 4\n",
    "              3: [2, 1],   # 6\n",
    "              4: [2, 2],   # 8\n",
    "              5: [4, 1],   # 10\n",
    "              6: [4, 2],   # 12\n",
    "              7: [4, 3],   # 14\n",
    "              8: [4, 4],   # 16\n",
    "              9: [8, 1],   # 18\n",
    "              10: [8, 2],  # 20\n",
    "              11: [8, 3],  # 22\n",
    "              12: [8, 4],  # 24\n",
    "              13: [8, 5],  # 26\n",
    "              14: [8, 6]    # 28\n",
    "              }\n",
    "# the reason not to use torch.relu is that it returns torch.tensor as the output and it can be inconvenient in some cases\n",
    "\n",
    "def relu(x):\n",
    "    return np.maximum(x, 0)\n",
    "\n",
    "def sawtooth(x):\n",
    "    return 2 * relu(x) - 4 * relu(x-0.5) + 2 * relu(x-1)\n",
    "\n",
    "def sawtooth_squaring(x, depth=32):\n",
    "    x_scaled = np.abs(x) / 1e7\n",
    "    out = x_scaled\n",
    "    num_connections = 8 * depth\n",
    "    for i in range(depth):\n",
    "        x_scaled = sawtooth(x_scaled)\n",
    "        out -= np.power(2., -2*i - 2) * x_scaled\n",
    "    out = out * 1e7 ** 2\n",
    "    \n",
    "    return out\n",
    "\n",
    "def squaring_multiplication(x, y, squaring_depth=32):\n",
    "    x_square = sawtooth_squaring(x, depth=squaring_depth)\n",
    "    y_square = sawtooth_squaring(y, depth=squaring_depth)\n",
    "    sum_square = sawtooth_squaring(x+y, depth=squaring_depth)\n",
    "    return (sum_square - x_square - y_square) / 2\n",
    "\n",
    "def sawtooth_sin(x):\n",
    "    powers = np.zeros((len(x), 12))\n",
    "    \n",
    "    for i in range(12):\n",
    "        if i == 0:\n",
    "            powers[:, i] = 1\n",
    "        elif i == 1:\n",
    "            powers[:, i] = sawtooth_squaring(x)\n",
    "        else:\n",
    "            pwr1 = powers_dict[i][0]\n",
    "            pwr2 = powers_dict[i][1]\n",
    "            powers[:, i] = squaring_multiplication(powers[:, pwr1], powers[:, pwr2])\n",
    "            \n",
    "            \n",
    "    \n",
    "#     factorials = np.array([np.math.factorial(2*i+1) for i in range(14)])\n",
    "#     ones = np.array([(-1) ** i for i in range(14)])\n",
    "    for i in range(12):\n",
    "        powers[:, i] = np.power(-1, i) * powers[:, i] / np.math.factorial(2*i + 1)\n",
    "            \n",
    "            \n",
    "    #print(powers, factorials, ones)\n",
    "    return squaring_multiplication(np.sum(powers, axis=1), x)\n",
    "        \n",
    "        "
   ]
  },
  {
   "cell_type": "markdown",
   "metadata": {},
   "source": [
    "Each squaring adds depth*8 connections (32 * 8), each multiplication equals to 3 squarings + 3 connections for summation. My functions has 1 squaring + 10 multiplications 12 output connections, so the total number of connections is $256*3*10 + 256 + 256*3 + 12 = 8716$ connections. Even if my calculation is innacurate, I have a pretty big gap with the required number, so the actual number of connections is less than 10000 for sure."
   ]
  },
  {
   "cell_type": "code",
   "execution_count": 48,
   "metadata": {},
   "outputs": [
    {
     "data": {
      "text/plain": [
       "8716"
      ]
     },
     "execution_count": 48,
     "metadata": {},
     "output_type": "execute_result"
    }
   ],
   "source": [
    "256*3*10 + 256 + 256*3 + 12"
   ]
  },
  {
   "cell_type": "code",
   "execution_count": 281,
   "metadata": {},
   "outputs": [
    {
     "data": {
      "text/plain": [
       "0.020000000000000025"
      ]
     },
     "execution_count": 281,
     "metadata": {},
     "output_type": "execute_result"
    }
   ],
   "source": [
    "# test\n",
    "squaring_multiplication(0.1, 0.2, squaring_depth=50)"
   ]
  },
  {
   "cell_type": "code",
   "execution_count": 282,
   "metadata": {},
   "outputs": [
    {
     "data": {
      "image/png": "[encoded data removed]",
      "text/plain": [
       "<Figure size 432x288 with 1 Axes>"
      ]
     },
     "metadata": {
      "needs_background": "light"
     },
     "output_type": "display_data"
    }
   ],
   "source": [
    "x_test = np.arange(0, 1, 0.001)\n",
    "y_tooth = sawtooth(sawtooth(sawtooth(x_test)))\n",
    "plt.plot(x_test, y_tooth)\n",
    "_ = plt.title('triple tooth')"
   ]
  },
  {
   "cell_type": "code",
   "execution_count": 286,
   "metadata": {},
   "outputs": [
    {
     "data": {
      "image/png": "[encoded data removed]",
      "text/plain": [
       "<Figure size 432x288 with 1 Axes>"
      ]
     },
     "metadata": {
      "needs_background": "light"
     },
     "output_type": "display_data"
    }
   ],
   "source": [
    "x_test = np.arange(0, PI, 0.001)\n",
    "y_squared = sawtooth_squaring(x_test, depth=50)\n",
    "plt.plot(x_test, y_squared, label='approx')\n",
    "plt.plot(x_test, np.power(x_test, 2), label='true')\n",
    "plt.title('sawtooth squaring')\n",
    "plt.legend()\n",
    "plt.show()"
   ]
  },
  {
   "cell_type": "code",
   "execution_count": 46,
   "metadata": {},
   "outputs": [
    {
     "data": {
      "text/plain": [
       "31416"
      ]
     },
     "execution_count": 46,
     "metadata": {},
     "output_type": "execute_result"
    },
    {
     "data": {
      "image/png": "[encoded data removed]",
      "text/plain": [
       "<Figure size 432x288 with 1 Axes>"
      ]
     },
     "metadata": {
      "needs_background": "light"
     },
     "output_type": "display_data"
    }
   ],
   "source": [
    "x_test = np.arange(-PI, PI, 0.0002)\n",
    "    \n",
    "plt.plot(x_test, sawtooth_sin(x_test))\n",
    "plt.plot(x_test, np.sin(x_test))\n",
    "\n",
    "len(x_test)"
   ]
  },
  {
   "cell_type": "code",
   "execution_count": 47,
   "metadata": {},
   "outputs": [
    {
     "data": {
      "text/plain": [
       "-13.305485391295516"
      ]
     },
     "execution_count": 47,
     "metadata": {},
     "output_type": "execute_result"
    }
   ],
   "source": [
    "np.log(np.max(np.abs(sawtooth_sin(x_test) - np.sin(x_test))))"
   ]
  },
  {
   "cell_type": "markdown",
   "metadata": {},
   "source": [
    "Great!"
   ]
  }
 ],
 "metadata": {
  "kernelspec": {
   "display_name": "Python 3",
   "language": "python",
   "name": "python3"
  },
  "language_info": {
   "codemirror_mode": {
    "name": "ipython",
    "version": 3
   },
   "file_extension": ".py",
   "mimetype": "text/x-python",
   "name": "python",
   "nbconvert_exporter": "python",
   "pygments_lexer": "ipython3",
   "version": "3.7.6"
  }
 },
 "nbformat": 4,
 "nbformat_minor": 1
}
