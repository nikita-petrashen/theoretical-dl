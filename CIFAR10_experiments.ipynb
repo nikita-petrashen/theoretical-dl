{
  "nbformat": 4,
  "nbformat_minor": 0,
  "metadata": {
    "kernelspec": {
      "display_name": "Python 3",
      "language": "python",
      "name": "python3"
    },
    "language_info": {
      "codemirror_mode": {
        "name": "ipython",
        "version": 3
      },
      "file_extension": ".py",
      "mimetype": "text/x-python",
      "name": "python",
      "nbconvert_exporter": "python",
      "pygments_lexer": "ipython3",
      "version": "3.7.6"
    },
    "colab": {
      "name": "CIFAR10_experiments.ipynb",
      "provenance": [],
      "collapsed_sections": []
    },
    "accelerator": "GPU"
  },
  "cells": [
    {
      "cell_type": "code",
      "metadata": {
        "id": "opseszTTFyKU"
      },
      "source": [
        "import math\n",
        "import torch\n",
        "import torch.nn as nn\n",
        "import torch.optim as optim\n",
        "import torch.nn.functional as F\n",
        "import torch.autograd as autograd\n",
        "from torchvision import datasets, transforms\n",
        "from matplotlib import pyplot as plt\n",
        "import numpy as np"
      ],
      "execution_count": 1,
      "outputs": []
    },
    {
      "cell_type": "code",
      "metadata": {
        "colab": {
          "base_uri": "https://localhost:8080/"
        },
        "id": "cQaP69W8Gu9y",
        "outputId": "3d372095-6589-4994-e8a8-5ab64261dce6"
      },
      "source": [
        "import google.colab\n",
        "google.colab.drive.mount(\"/content/drive\")"
      ],
      "execution_count": 2,
      "outputs": [
        {
          "output_type": "stream",
          "text": [
            "Mounted at /content/drive\n"
          ],
          "name": "stdout"
        }
      ]
    },
    {
      "cell_type": "markdown",
      "metadata": {
        "id": "zGupHWnGFyKW"
      },
      "source": [
        "# Define needed classes and functions"
      ]
    },
    {
      "cell_type": "markdown",
      "metadata": {
        "id": "WcNEnB7iFyKX"
      },
      "source": [
        "### Define the basic blocs for the edge-popup models"
      ]
    },
    {
      "cell_type": "code",
      "metadata": {
        "id": "SPHkTSK5FyKY"
      },
      "source": [
        "class GetSubnet(autograd.Function):\n",
        "    @staticmethod\n",
        "    def forward(self, scores, k):\n",
        "        out = scores.clone()\n",
        "        _, idx = scores.flatten().sort()\n",
        "        j = int((1 - k) * scores.numel())\n",
        "        \n",
        "        flat_out = out.flatten()\n",
        "        flat_out[idx[:j]] = 0\n",
        "        flat_out[idx[j:]] = 1\n",
        "        \n",
        "        return out\n",
        "    \n",
        "    @staticmethod\n",
        "    def backward(self, g):\n",
        "        return g, None\n",
        "    \n",
        "\n",
        "class PrunedConv(nn.Conv2d):\n",
        "    def __init__(self, sparsity, *args, **kwargs):\n",
        "        super().__init__(*args, **kwargs)\n",
        "        self.sparsity = sparsity\n",
        "        self.scores = nn.Parameter(torch.Tensor(self.weight.size()))\n",
        "        nn.init.kaiming_uniform_(self.scores, a=math.sqrt(5))\n",
        "        \n",
        "        nn.init.kaiming_normal_(self.weight, mode='fan_in', nonlinearity='relu')\n",
        "        self.weight.requires_grad = False\n",
        "        \n",
        "    def forward(self, x):\n",
        "        mask = GetSubnet.apply(self.scores.abs(), self.sparsity)\n",
        "        w = self.weight * mask\n",
        "        x = F.conv2d(\n",
        "                x, w, self.bias, self.stride, self.padding, self.dilation, self.groups\n",
        "        )\n",
        "        \n",
        "        return x\n",
        "    \n",
        "class PrunedLinear(nn.Linear):\n",
        "    def __init__(self, sparsity, *args, **kwargs):\n",
        "        super().__init__(*args, **kwargs)\n",
        "        \n",
        "        self.sparsity = sparsity\n",
        "        self.scores = nn.Parameter(torch.Tensor(self.weight.size()))\n",
        "        nn.init.kaiming_uniform_(self.scores, a=math.sqrt(5))\n",
        "        \n",
        "        nn.init.kaiming_normal_(self.weight, mode='fan_in', nonlinearity='relu')\n",
        "        self.weight.requires_grad = False\n",
        "        \n",
        "    def forward(self, x):\n",
        "        mask = GetSubnet.apply(self.scores.abs(), self.sparsity)\n",
        "\n",
        "        w = self.weight * mask\n",
        "        x = F.linear(x, w, self.bias)\n",
        "\n",
        "        return x\n",
        "    "
      ],
      "execution_count": 3,
      "outputs": []
    },
    {
      "cell_type": "markdown",
      "metadata": {
        "id": "Q5NIcnB2FyKb"
      },
      "source": [
        "### Models for CIFAR-10 experiments"
      ]
    },
    {
      "cell_type": "code",
      "metadata": {
        "id": "kCDNWCEaFyKb"
      },
      "source": [
        "class CIFAR_Net(nn.Module):\n",
        "    def __init__(self, k=8):\n",
        "        super().__init__()\n",
        "        self.conv1 = nn.Conv2d(3, 2*k, 3, 1, bias=False)\n",
        "        self.conv2 = nn.Conv2d(2*k, 2*k, 3, 1, bias=False)\n",
        "        self.conv3 = nn.Conv2d(2*k, 4*k, 3, 1, bias=False)\n",
        "        self.conv4 = nn.Conv2d(4*k, 4*k, 3, 1, bias=False)\n",
        "        \n",
        "        self.fc1 = nn.Linear(100*k, 8*k, bias=False)\n",
        "        self.fc2 = nn.Linear(8*k, 8*k, bias=False)\n",
        "        self.fc3 = nn.Linear(8*k, 10, bias=False)\n",
        "    \n",
        "    def forward(self, x):\n",
        "        x = self.conv1(x)\n",
        "        x = F.relu(x)\n",
        "        x = self.conv2(x)\n",
        "        x = F.relu(x)\n",
        "        x = F.max_pool2d(x, 2)\n",
        "        x = self.conv3(x)\n",
        "        x = F.relu(x)\n",
        "        x = self.conv4(x)\n",
        "        x = F.relu(x)\n",
        "        x = F.max_pool2d(x, 2)\n",
        "        x = torch.flatten(x, 1)\n",
        "        x = self.fc1(x)\n",
        "        x = F.relu(x)\n",
        "        x = self.fc2(x)\n",
        "        x = F.relu(x)\n",
        "        x = self.fc3(x)\n",
        "        out = F.log_softmax(x, dim=1)\n",
        "        \n",
        "        return out\n",
        "    \n",
        "    @property\n",
        "    def num_parameters(self):\n",
        "        return sum([p.numel() for p in self.parameters() if p.requires_grad])\n",
        "    \n",
        "\n",
        "class CIFAR_Net_Pruned(nn.Module):\n",
        "    def __init__(self, sparsity, k=8):\n",
        "        super().__init__()\n",
        "        self.sparsity = sparsity\n",
        "        self.conv1 = PrunedConv(sparsity, 3, 2*k, 3, 1, bias=False)\n",
        "        self.conv2 = PrunedConv(sparsity, 2*k, 2*k, 3, 1, bias=False)\n",
        "        self.conv3 = PrunedConv(sparsity, 2*k, 4*k, 3, 1, bias=False)\n",
        "        self.conv4 = PrunedConv(sparsity, 4*k, 4*k, 3, 1, bias=False)\n",
        "        \n",
        "        self.fc1 = PrunedLinear(sparsity, 100*k, 8*k, bias=False)\n",
        "        self.fc2 = PrunedLinear(sparsity, 8*k, 8*k, bias=False)\n",
        "        self.fc3 = PrunedLinear(sparsity, 8*k, 10, bias=False)\n",
        "        \n",
        "    def set_sparsity(self, sparsity):\n",
        "        self.conv1.sparsity = sparsity\n",
        "        self.conv2.sparsity = sparsity\n",
        "        self.conv3.sparsity = sparsity\n",
        "        self.conv4.sparsity = sparsity\n",
        "        self.fc1.sparsity = sparsity\n",
        "        self.fc2.sparsity = sparsity\n",
        "        self.fc3.sparsity = sparsity\n",
        "    \n",
        "    def forward(self, x):\n",
        "        x = self.conv1(x)\n",
        "        x = F.relu(x)\n",
        "        x = self.conv2(x)\n",
        "        x = F.relu(x)\n",
        "        x = F.max_pool2d(x, 2)\n",
        "        x = self.conv3(x)\n",
        "        x = F.relu(x)\n",
        "        x = self.conv4(x)\n",
        "        x = F.relu(x)\n",
        "        x = F.max_pool2d(x, 2)\n",
        "        x = torch.flatten(x, 1)\n",
        "        x = self.fc1(x)\n",
        "        x = F.relu(x)\n",
        "        x = self.fc2(x)\n",
        "        x = F.relu(x)\n",
        "        x = self.fc3(x)\n",
        "        out = F.log_softmax(x, dim=1)\n",
        "        \n",
        "        return out\n",
        "    \n",
        "    @property\n",
        "    def num_parameters(self):\n",
        "        return int(self.sparsity * sum([p.numel() for p in self.parameters() if not p.requires_grad]))"
      ],
      "execution_count": 42,
      "outputs": []
    },
    {
      "cell_type": "markdown",
      "metadata": {
        "id": "k47LMzbzFyKc"
      },
      "source": [
        "### Train and test functions"
      ]
    },
    {
      "cell_type": "code",
      "metadata": {
        "id": "-u_VcUXFFyKd"
      },
      "source": [
        "def train(model, loader, optimizer, criterion, epoch, verbose=False):\n",
        "    model.train()\n",
        "    loss = 0\n",
        "    acc = 0\n",
        "    for batch_idx, (X, y) in enumerate(loader):\n",
        "        X, y = X.to(device), y.to(device)\n",
        "        optimizer.zero_grad()\n",
        "        y_pred = model(X)\n",
        "        l = criterion(y_pred, y)\n",
        "        l.backward()\n",
        "        optimizer.step()\n",
        "        pred = y_pred.argmax(dim=1, keepdim=True)\n",
        "        acc += pred.eq(y.view_as(pred)).sum().item()\n",
        "        loss += l.item()\n",
        "    \n",
        "    loss /= len(loader.dataset)\n",
        "    if verbose:    \n",
        "        print(f'TR    Loss: {loss:.04f}, Acc: {100.*acc/len(loader.dataset):.02f}')\n",
        "            \n",
        "def test(model, loader, criterion, verbose=False):\n",
        "    model.eval()\n",
        "    loss = 0\n",
        "    acc = 0\n",
        "    with torch.no_grad():\n",
        "        for X, y in loader:\n",
        "            X, y = X.to(device), y.to(device)\n",
        "            y_pred = model(X)\n",
        "            loss += criterion(y_pred, y).item()\n",
        "            pred = y_pred.argmax(dim=1, keepdim=True)\n",
        "            acc += pred.eq(y.view_as(pred)).sum().item()\n",
        "            \n",
        "    loss /= len(loader.dataset)\n",
        "    \n",
        "    if verbose:\n",
        "        print(f'TS    Loss: {loss:.04f}, Acc: {100.*acc/len(loader.dataset):.02f}')\n",
        "    \n",
        "    return loss, 100.*acc/len(loader.dataset)"
      ],
      "execution_count": 15,
      "outputs": []
    },
    {
      "cell_type": "code",
      "metadata": {
        "id": "-7Cgu88-FyKe"
      },
      "source": [
        "def get_acc(train_loader, test_loader, mode='optimized', k=8, sparsity=None, seed=42):\n",
        "    torch.manual_seed(seed)\n",
        "    \n",
        "    if mode == 'optimized':\n",
        "        model = CIFAR_Net(k=k).to(device)\n",
        "        \n",
        "    else:\n",
        "        model = CIFAR_Net_Pruned(k=k, sparsity=sparsity).to(device)\n",
        "        \n",
        "    optimizer = optim.SGD(\n",
        "        [p for p in model.parameters() if p.requires_grad],\n",
        "        lr=LR,\n",
        "        momentum=MOMENTUM,\n",
        "        weight_decay=WD\n",
        "    )\n",
        "    criterion = nn.CrossEntropyLoss().to(device)\n",
        "    scheduler = optim.lr_scheduler.CosineAnnealingLR(optimizer, T_max=NUM_EPOCHS)\n",
        "    \n",
        "    for epoch in range(1, NUM_EPOCHS + 1):\n",
        "        train(model, train_loader, optimizer, criterion, epoch)\n",
        "        scheduler.step()\n",
        "        \n",
        "    _, train_acc = test(model, train_loader, criterion)   \n",
        "    _, test_acc = test(model, test_loader, criterion)\n",
        "    \n",
        "    \n",
        "    return train_acc, test_acc"
      ],
      "execution_count": 16,
      "outputs": []
    },
    {
      "cell_type": "markdown",
      "metadata": {
        "id": "7bkiqIrpFyKf"
      },
      "source": [
        "# CIFAR-10 experiments"
      ]
    },
    {
      "cell_type": "markdown",
      "metadata": {
        "id": "Wx6df4t1FyKf"
      },
      "source": [
        "### Setup hyperparameters and load data"
      ]
    },
    {
      "cell_type": "code",
      "metadata": {
        "colab": {
          "base_uri": "https://localhost:8080/"
        },
        "id": "8vVZxAXqFyKg",
        "outputId": "30e0c45e-290d-415d-bd09-4e4f9842dc0a"
      },
      "source": [
        "torch.manual_seed(42)\n",
        "device = 'cuda' if torch.cuda.is_available() else 'cpu'\n",
        "batch_size = 128\n",
        "NUM_EPOCHS = 7\n",
        "LR = 1e-2\n",
        "MOMENTUM = 0.9\n",
        "WD = 5e-4\n",
        "sparsity_list = [0, 0.05, 0.1, 0.3, 0.5, 0.7, 0.9, 0.95, 1]\n",
        "tsf = transforms.Compose([\n",
        "    transforms.ToTensor(),\n",
        "    transforms.Normalize(\n",
        "            mean=[0.491, 0.482, 0.447], std=[0.247, 0.243, 0.262]\n",
        "        )\n",
        "])\n",
        "train_dataset = datasets.CIFAR10('data', train=True, transform=tsf, download=True)\n",
        "test_dataset = datasets.CIFAR10('data', train=False, transform=tsf, download=True)\n",
        "train_loader = torch.utils.data.DataLoader(train_dataset, batch_size=batch_size, shuffle=True)\n",
        "test_loader = torch.utils.data.DataLoader(test_dataset, batch_size=batch_size, shuffle=False)"
      ],
      "execution_count": 38,
      "outputs": [
        {
          "output_type": "stream",
          "text": [
            "Files already downloaded and verified\n",
            "Files already downloaded and verified\n"
          ],
          "name": "stdout"
        }
      ]
    },
    {
      "cell_type": "markdown",
      "metadata": {
        "id": "ELyhbBXZFyKg"
      },
      "source": [
        "## Varying the sparsity parameter"
      ]
    },
    {
      "cell_type": "markdown",
      "metadata": {
        "id": "uYnEWHtqFyKg"
      },
      "source": [
        "### Optimized weights"
      ]
    },
    {
      "cell_type": "code",
      "metadata": {
        "colab": {
          "base_uri": "https://localhost:8080/"
        },
        "id": "FnKxupSQFyKh",
        "outputId": "82702020-5061-477a-aaec-99a106b3df25"
      },
      "source": [
        "train_acc, test_acc = get_acc(train_loader, test_loader, mode='optimized', k=32)\n",
        "print(f'Train acc: {train_acc:.02f}, test acc: {test_acc:.02f}')"
      ],
      "execution_count": 33,
      "outputs": [
        {
          "output_type": "stream",
          "text": [
            "Train acc: 76.23, test acc: 71.66\n"
          ],
          "name": "stdout"
        }
      ]
    },
    {
      "cell_type": "markdown",
      "metadata": {
        "id": "RQmvKSVeFyKh"
      },
      "source": [
        "### Pruned weights"
      ]
    },
    {
      "cell_type": "code",
      "metadata": {
        "colab": {
          "base_uri": "https://localhost:8080/"
        },
        "id": "V3TxC_xbFyKi",
        "outputId": "68ae133c-10c5-492e-9ce3-de150d692fb9"
      },
      "source": [
        "torch.manual_seed(42)\n",
        "acc_list = []\n",
        "\n",
        "for sparsity in sparsity_list:\n",
        "    _, test_acc = get_acc(train_loader, test_loader, mode='pruned', k=32, sparsity=sparsity)\n",
        "    acc_list.append(test_acc)\n",
        "    print(f'Sparsity={sparsity}, Test acc={test_acc:.02f}')\n"
      ],
      "execution_count": 39,
      "outputs": [
        {
          "output_type": "stream",
          "text": [
            "Sparsity=0, Test acc=10.00\n",
            "Sparsity=0.05, Test acc=10.19\n",
            "Sparsity=0.1, Test acc=10.83\n",
            "Sparsity=0.3, Test acc=41.70\n",
            "Sparsity=0.5, Test acc=50.54\n",
            "Sparsity=0.7, Test acc=53.38\n",
            "Sparsity=0.9, Test acc=53.88\n",
            "Sparsity=0.95, Test acc=52.11\n",
            "Sparsity=1, Test acc=10.50\n"
          ],
          "name": "stdout"
        }
      ]
    },
    {
      "cell_type": "code",
      "metadata": {
        "colab": {
          "base_uri": "https://localhost:8080/",
          "height": 629
        },
        "id": "8DvsSAH0FyKi",
        "outputId": "a20e351f-1ead-46fd-9f92-80711895c4a6"
      },
      "source": [
        "plt.figure(figsize=(10, 10))\n",
        "plt.plot(sparsity_list, acc_list, label='pruned')\n",
        "plt.hlines(y=71.66, xmin=0, xmax=1, label='optimized', linestyle='dashed')\n",
        "plt.xlabel('$k$', fontsize=15)\n",
        "plt.ylabel('accuracy', fontsize=15)\n",
        "plt.title('CIFAR-10', fontsize=15)\n",
        "plt.legend()\n",
        "plt.ylim((0, 100))\n",
        "plt.show()"
      ],
      "execution_count": 41,
      "outputs": [
        {
          "output_type": "display_data",
          "data": {
            "image/png": "[encoded data removed]",
            "text/plain": [
              "<Figure size 720x720 with 1 Axes>"
            ]
          },
          "metadata": {
            "tags": [],
            "needs_background": "light"
          }
        }
      ]
    },
    {
      "cell_type": "markdown",
      "metadata": {
        "id": "4N7AB1fxFyKi"
      },
      "source": [
        "## The effect of overparametrization"
      ]
    },
    {
      "cell_type": "code",
      "metadata": {
        "id": "DT27NQ6oFyKi"
      },
      "source": [
        "k_list = [1, 2, 4, 8, 16, 20, 24, 32]\n",
        "\n",
        "acc_list = []\n",
        "acc_list_3 = []\n",
        "acc_list_5 = []\n",
        "acc_list_7 = []\n",
        "\n",
        "for k in k_list:\n",
        "    # optimized weights\n",
        "    _, test_acc = get_acc(train_loader, test_loader, mode='optimized', k=k)\n",
        "    acc_list.append(test_acc)\n",
        "    \n",
        "    # sparsity = 0.3\n",
        "    _, test_acc = get_acc(train_loader, test_loader, mode='pruned', k=k, sparsity=0.3)    \n",
        "    acc_list_3.append(test_acc)\n",
        "    \n",
        "    # sparsity = 0.5\n",
        "    _, test_acc = get_acc(train_loader, test_loader, mode='pruned', k=k, sparsity=0.5)\n",
        "    acc_list_5.append(test_acc)\n",
        "    \n",
        "    # sparsity = 0.7\n",
        "    _, test_acc = get_acc(train_loader, test_loader, mode='pruned', k=k, sparsity=0.7)\n",
        "    acc_list_7.append(test_acc)"
      ],
      "execution_count": 43,
      "outputs": []
    },
    {
      "cell_type": "code",
      "metadata": {
        "colab": {
          "base_uri": "https://localhost:8080/",
          "height": 628
        },
        "id": "NoRwnD2LFyKj",
        "outputId": "b018ab50-8519-4c41-f2ac-4891e3fb4855"
      },
      "source": [
        "plt.figure(figsize=(10, 10))\n",
        "plt.plot(k_list, acc_list, label='optimized', linestyle='dashed')\n",
        "plt.plot(k_list, acc_list_3, label='k=0.3')\n",
        "plt.plot(k_list, acc_list_5, label='k=0.5')\n",
        "plt.plot(k_list, acc_list_7, label='k=0.7')\n",
        "plt.xlabel('width', fontsize=15)\n",
        "plt.ylabel('accuracy', fontsize=15)\n",
        "plt.title('CIFAR-10', fontsize=15)\n",
        "plt.legend()\n",
        "plt.ylim((0, 100))\n",
        "plt.show()"
      ],
      "execution_count": 44,
      "outputs": [
        {
          "output_type": "display_data",
          "data": {
            "image/png": "[encoded data removed]",
            "text/plain": [
              "<Figure size 720x720 with 1 Axes>"
            ]
          },
          "metadata": {
            "tags": [],
            "needs_background": "light"
          }
        }
      ]
    },
    {
      "cell_type": "markdown",
      "metadata": {
        "id": "ljMULhyCFyKj"
      },
      "source": [
        "## The effect of width"
      ]
    },
    {
      "cell_type": "code",
      "metadata": {
        "id": "vhG6xKJ7FyKj"
      },
      "source": [
        "k_list = [10, 11, 12, 13, 14]\n",
        "sparsity_list = [[1*0.75, 0.72*0.75, 0.425*0.75],\n",
        "                 [0.835*0.75, 0.6*0.75, 0.36*0.75],\n",
        "                 [0.7*0.75, 0.5*0.75, 0.35*0.75],\n",
        "                 [0.595*0.75, 0.425*0.75, 0.25*0.75],\n",
        "                 [0.515*0.75, 0.365*0.75, 0.22*0.75]]\n",
        "acc_list_3 = []\n",
        "acc_list_5 = []\n",
        "acc_list_7 = []\n",
        "\n",
        "for k, s_list in zip(k_list, sparsity_list):\n",
        "    s7, s5, s3 = s_list\n",
        "    \n",
        "    # sparsity = 0.3\n",
        "    _, test_acc = get_acc(train_loader, test_loader, mode='pruned', k=k, sparsity=s3)\n",
        "    acc_list_3.append(test_acc)\n",
        "    \n",
        "    # sparsity = 0.5\n",
        "    _, test_acc = get_acc(train_loader, test_loader, mode='pruned', k=k, sparsity=s5)\n",
        "    acc_list_5.append(test_acc)\n",
        "    \n",
        "    # sparsity = 0.7\n",
        "    _, test_acc = get_acc(train_loader, test_loader, mode='pruned', k=k, sparsity=s7)\n",
        "    acc_list_7.append(test_acc)"
      ],
      "execution_count": 47,
      "outputs": []
    },
    {
      "cell_type": "code",
      "metadata": {
        "colab": {
          "base_uri": "https://localhost:8080/",
          "height": 628
        },
        "id": "N9IJWsd0FyKj",
        "outputId": "a09002b4-2a7e-4fee-8c09-ed973fdcd9bf"
      },
      "source": [
        "plt.figure(figsize=(10, 10))\n",
        "plt.plot(k_list, acc_list_3, label='n=35k')\n",
        "plt.plot(k_list, acc_list_5, label='n=60k')\n",
        "plt.plot(k_list, acc_list_7, label='n=85k')\n",
        "plt.xlabel('width', fontsize=15)\n",
        "plt.ylabel('accuracy', fontsize=15)\n",
        "plt.title('CIFAR-10', fontsize=15)\n",
        "plt.legend()\n",
        "plt.ylim((0, 100))\n",
        "plt.show()"
      ],
      "execution_count": 48,
      "outputs": [
        {
          "output_type": "display_data",
          "data": {
            "image/png": "[encoded data removed]",
            "text/plain": [
              "<Figure size 720x720 with 1 Axes>"
            ]
          },
          "metadata": {
            "tags": [],
            "needs_background": "light"
          }
        }
      ]
    },
    {
      "cell_type": "code",
      "metadata": {
        "id": "fembj3V5wOHf"
      },
      "source": [
        ""
      ],
      "execution_count": null,
      "outputs": []
    }
  ]
}